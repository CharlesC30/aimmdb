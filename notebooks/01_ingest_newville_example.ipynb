{
 "cells": [
  {
   "cell_type": "code",
   "execution_count": null,
   "id": "3d0110f7-ba1d-4817-95e0-1a9ec70770a0",
   "metadata": {},
   "outputs": [],
   "source": [
    "import copy\n",
    "import pathlib\n",
    "\n",
    "import numpy as np\n",
    "import pandas as pd\n",
    "\n",
    "from tiled.client import from_uri\n",
    "from tiled.examples.xdi import read_xdi\n",
    "from tiled.queries import Key\n",
    "\n",
    "from aimmdb.schemas import ExperimentalXASMetadata"
   ]
  },
  {
   "cell_type": "code",
   "execution_count": null,
   "id": "315e7640-7222-432c-a6f9-abb6b1b23249",
   "metadata": {},
   "outputs": [],
   "source": [
    "# now we will ingest the newville dataset\n",
    "# first download and unpack the raw data\n",
    "!curl -L https://github.com/XraySpectroscopy/XASDataLibrary/archive/master.tar.gz | tar xz"
   ]
  },
  {
   "cell_type": "code",
   "execution_count": null,
   "id": "1ff6333b-690f-4119-a2b2-bbe5c94c3112",
   "metadata": {},
   "outputs": [],
   "source": [
    "# we will enforce that XAS metadata satisfies the following schema\n",
    "ExperimentalXASMetadata.schema()"
   ]
  },
  {
   "cell_type": "code",
   "execution_count": null,
   "id": "4952abd1-434a-48bd-80b5-ea3d565eaffd",
   "metadata": {},
   "outputs": [],
   "source": [
    "# we can check if the metadata satisfies the schema locally by running\n",
    "# ExperimentalXASMetadata.parse_obj(metadata)"
   ]
  },
  {
   "cell_type": "code",
   "execution_count": null,
   "id": "cbf5e6a8-77b8-4c1d-80f5-f773cbcc5681",
   "metadata": {},
   "outputs": [],
   "source": [
    "# example of valid metadata\n",
    "metadata = {\n",
    "    \"dataset\": \"example\",\n",
    "    \"element\": {\"edge\": \"K\", \"symbol\": \"Fe\"},\n",
    "    \"facility\": {\"name\": \"ALS\"},\n",
    "    \"beamline\": {\"name\": \"8.0.1\"},\n",
    "}\n",
    "ExperimentalXASMetadata.parse_obj(metadata)"
   ]
  },
  {
   "cell_type": "code",
   "execution_count": null,
   "id": "323fea30-c253-4b24-8972-e34c1f48a9d3",
   "metadata": {},
   "outputs": [],
   "source": [
    "# examples of invalid metadata"
   ]
  },
  {
   "cell_type": "code",
   "execution_count": null,
   "id": "27211d42-b85c-4910-b674-35b4b30c1373",
   "metadata": {},
   "outputs": [],
   "source": [
    "# missing dataset\n",
    "metadata = {\n",
    "    \"element\": {\"edge\": \"K\", \"symbol\": \"Fe\"},\n",
    "    \"facility\": {\"name\": \"ALS\"},\n",
    "    \"beamline\": {\"name\": \"8.0.1\"},\n",
    "}\n",
    "ExperimentalXASMetadata.parse_obj(metadata)"
   ]
  },
  {
   "cell_type": "code",
   "execution_count": null,
   "id": "983b2dd7-733d-4c7b-b9ff-4999c88b94a3",
   "metadata": {},
   "outputs": [],
   "source": [
    "# invalid edge\n",
    "metadata = {\n",
    "    \"dataset\": \"example\",\n",
    "    \"element\": {\"edge\": \"FOO\", \"symbol\": \"Fe\"},\n",
    "    \"facility\": {\"name\": \"ALS\"},\n",
    "    \"beamline\": {\"name\": \"8.0.1\"},\n",
    "}\n",
    "ExperimentalXASMetadata.parse_obj(metadata)"
   ]
  },
  {
   "cell_type": "code",
   "execution_count": null,
   "id": "4b185ad9-ce38-4fc4-a5c7-fff008b5c775",
   "metadata": {},
   "outputs": [],
   "source": [
    "# invalid element symbol\n",
    "metadata = {\n",
    "    \"dataset\": \"example\",\n",
    "    \"element\": {\"edge\": \"K\", \"symbol\": \"FOO\"},\n",
    "    \"facility\": {\"name\": \"ALS\"},\n",
    "    \"beamline\": {\"name\": \"8.0.1\"},\n",
    "}\n",
    "ExperimentalXASMetadata.parse_obj(metadata)"
   ]
  },
  {
   "cell_type": "code",
   "execution_count": null,
   "id": "985698bd-70ba-445a-8696-4d05f76b45a4",
   "metadata": {},
   "outputs": [],
   "source": [
    "# invalid facility name\n",
    "metadata = {\n",
    "    \"dataset\": \"example\",\n",
    "    \"element\": {\"edge\": \"K\", \"symbol\": \"Fe\"},\n",
    "    \"facility\": {\"name\": \"FOO\"},\n",
    "    \"beamline\": {\"name\": \"8.0.1\"},\n",
    "}\n",
    "ExperimentalXASMetadata.parse_obj(metadata)"
   ]
  },
  {
   "cell_type": "code",
   "execution_count": null,
   "id": "451affef-a247-4be2-b1c2-653b111353b3",
   "metadata": {},
   "outputs": [],
   "source": [
    "# getting existing data to fit into this schema requires some munging..."
   ]
  },
  {
   "cell_type": "code",
   "execution_count": null,
   "id": "ff095500-0375-4d26-a051-8d5f52989247",
   "metadata": {},
   "outputs": [],
   "source": [
    "def lower_case_dict(d):\n",
    "    out = {}\n",
    "    modified = False\n",
    "\n",
    "    for k, v in d.items():\n",
    "        if isinstance(v, dict):\n",
    "          v, modified_ = lower_case_dict(v)\n",
    "          modified = modified or modified_\n",
    "        if isinstance(k, str) and not k.islower():\n",
    "            out[k.lower()] = v\n",
    "            modified = True\n",
    "        else:\n",
    "            out[k] = v\n",
    "\n",
    "    return out, modified\n",
    "\n",
    "def load_newville(data_path):\n",
    "    \"\"\"\n",
    "    Load newville dataset into a dataframe parsing sample information from metadata\n",
    "    \"\"\"\n",
    "    files = list(data_path.rglob(\"*.xdi\"))\n",
    "    print(f\"found {len(files)} xdi files to ingest\")\n",
    "\n",
    "    data_list = []\n",
    "\n",
    "    for f in files:\n",
    "        name = f.stem\n",
    "        df_xas, metadata = read_xdi(str(f))\n",
    "        fields = metadata.pop(\"fields\")\n",
    "        fields, _ = lower_case_dict(fields)\n",
    "        metadata.update({k.lower(): v for k, v in fields.items()})\n",
    "        metadata[\"sample\"].setdefault(\"prep\", None)\n",
    "        \n",
    "        try:\n",
    "          facility_name = metadata[\"facility\"][\"name\"]\n",
    "        except:\n",
    "          metadata[\"facility\"] = {\"name\" : None}\n",
    "        try:\n",
    "          beamline_name = metadata[\"beamline\"][\"name\"]\n",
    "        except:\n",
    "          metadata[\"beamline\"] = {\"name\" : None}\n",
    "\n",
    "        data_list.append(\n",
    "            {\n",
    "                \"name\": f.stem,\n",
    "                \"file\": str(f),\n",
    "                \"metadata\": metadata,\n",
    "                \"columns\" : tuple(df_xas)\n",
    "            }\n",
    "        )\n",
    "\n",
    "    df = pd.DataFrame(data_list)\n",
    "\n",
    "    return df"
   ]
  },
  {
   "cell_type": "code",
   "execution_count": null,
   "id": "c9755126-ad0f-4d94-a10c-46969672496b",
   "metadata": {},
   "outputs": [],
   "source": [
    "# read through all the files and extract some metadata\n",
    "newville = load_newville(pathlib.Path(\"./XASDataLibrary-master/data/\"))\n",
    "newville"
   ]
  },
  {
   "cell_type": "code",
   "execution_count": null,
   "id": "9e8b379a-0907-4400-8289-2e5198512b5a",
   "metadata": {},
   "outputs": [],
   "source": [
    "# not all records have facility name\n",
    "newville[\"metadata\"].apply(lambda x : x[\"facility\"][\"name\"]).unique()"
   ]
  },
  {
   "cell_type": "code",
   "execution_count": null,
   "id": "9f0f2b3e-580b-44b4-a56d-931e466b25d1",
   "metadata": {},
   "outputs": [],
   "source": [
    "missing_facility_name = newville[\"metadata\"].apply(lambda x : x[\"facility\"][\"name\"]).isnull()"
   ]
  },
  {
   "cell_type": "code",
   "execution_count": null,
   "id": "fe595df1-52a6-4606-b256-74b48d5ea448",
   "metadata": {},
   "outputs": [],
   "source": [
    "# we can infer the facility name from the beamline names\n",
    "newville[missing_facility_name].apply(lambda x : x[\"metadata\"][\"beamline\"][\"name\"], axis=1).unique()"
   ]
  },
  {
   "cell_type": "code",
   "execution_count": null,
   "id": "d972e9e2-89d1-4a43-a4d2-cc68be459ea6",
   "metadata": {},
   "outputs": [],
   "source": [
    "# this is a good example of data munging necessary to fit real data into explicit schemas\n",
    "def beamline_to_facility(beamline_name):\n",
    "  if beamline_name == \"20BM\" or beamline_name.startswith(\"APS\"):\n",
    "    return \"APS\"\n",
    "  elif beamline_name.startswith(\"SSRL\"):\n",
    "    return \"SSRL\"\n",
    "  else:\n",
    "    raise KeyError(f\"unable to infer facility name from beamline name {beamline_name}\")"
   ]
  },
  {
   "cell_type": "code",
   "execution_count": null,
   "id": "01853d58-aa76-4617-82f6-788a1526a246",
   "metadata": {},
   "outputs": [],
   "source": [
    "# fill in the missing facility information\n",
    "\n",
    "def f(x):\n",
    "  x[\"facility\"][\"name\"] = beamline_to_facility(x[\"beamline\"][\"name\"])\n",
    "  return x\n",
    "\n",
    "newville.loc[missing_facility_name, \"metadata\"] = newville[missing_facility_name][\"metadata\"].map(f)"
   ]
  },
  {
   "cell_type": "code",
   "execution_count": null,
   "id": "e2c42c1a-5833-4bd5-91f9-480d1388f4cf",
   "metadata": {},
   "outputs": [],
   "source": [
    "# now all records have a facility name\n",
    "newville[\"metadata\"].apply(lambda x : x[\"facility\"][\"name\"]).unique()"
   ]
  },
  {
   "cell_type": "code",
   "execution_count": null,
   "id": "c8ca8634-5147-43c8-9e2a-f254b9cc997c",
   "metadata": {},
   "outputs": [],
   "source": [
    "# create columns so we can do group measurements by sample\n",
    "newville.loc[:, \"sample.name\"] = newville.apply(lambda x : x[\"metadata\"][\"sample\"][\"name\"], axis=1)\n",
    "newville.loc[:, \"sample.prep\"] = newville.apply(lambda x : x[\"metadata\"][\"sample\"][\"prep\"], axis=1)"
   ]
  },
  {
   "cell_type": "code",
   "execution_count": null,
   "id": "fa6195d2-c76b-42a9-84e6-26a4f978b2b9",
   "metadata": {},
   "outputs": [],
   "source": [
    "# print out all the samples\n",
    "for (name, prep), g in newville.groupby([\"sample.name\", \"sample.prep\"]):\n",
    "  print(f\"{name}: {prep}, [{len(g)}]\")"
   ]
  },
  {
   "cell_type": "code",
   "execution_count": null,
   "id": "130ecde8-f180-4f2b-847d-0658d197305a",
   "metadata": {},
   "outputs": [],
   "source": [
    "# check that all our metadata satisfies the ExperimentalXAS schema\n",
    "# this is enforced by the server but we can check locally as well\n",
    "\n",
    "for metadata in newville[\"metadata\"]:\n",
    "  metadata = copy.deepcopy(metadata)\n",
    "  metadata[\"dataset\"] = \"dataset\"\n",
    "  ExperimentalXASMetadata.parse_obj(metadata)"
   ]
  },
  {
   "cell_type": "code",
   "execution_count": null,
   "id": "ee80b4c7-70e7-4de8-a5a5-e5b6b67b6ed4",
   "metadata": {},
   "outputs": [],
   "source": [
    "# now we are ready to ingest the data into the tiled server"
   ]
  },
  {
   "cell_type": "code",
   "execution_count": null,
   "id": "63f45081-bb56-41cd-b17a-3c2872be35c4",
   "metadata": {},
   "outputs": [],
   "source": [
    "# create tiled client object\n",
    "# because we have installed the aimmdb package, tiled automatically constructs an AIMMCatalog instance\n",
    "# this is a subclass of the generic tiled client providing a more expressive repr and methods for uploading data to the AIMM database\n",
    "c = from_uri(\"https://aimm-staging.lbl.gov/api\")\n",
    "c"
   ]
  },
  {
   "cell_type": "code",
   "execution_count": null,
   "id": "59eea0bb-3f1b-4144-ac93-db89469869a5",
   "metadata": {},
   "outputs": [],
   "source": [
    "# login to gain authenticated access\n",
    "c.login()"
   ]
  },
  {
   "cell_type": "code",
   "execution_count": null,
   "id": "4df41cb1-9329-49c8-b710-7e56153ed828",
   "metadata": {},
   "outputs": [],
   "source": [
    "c[\"uid\"]"
   ]
  },
  {
   "cell_type": "code",
   "execution_count": null,
   "id": "ff657779-3cdf-4a76-8a4c-c02e92347e16",
   "metadata": {},
   "outputs": [],
   "source": [
    "### DANGER ###\n",
    "# delete everything so we start fresh\n",
    "# NOTE we need to explicity iterate the node using list to gather the list of uids BEFORE we start deleting\n",
    "for k in list(c[\"uid\"]):\n",
    "    del c[\"uid\"][k]"
   ]
  },
  {
   "cell_type": "code",
   "execution_count": null,
   "id": "2486acec-e335-4a8c-a721-c08b0e27ad62",
   "metadata": {},
   "outputs": [],
   "source": [
    "# catalog should be empty now\n",
    "c[\"uid\"]"
   ]
  },
  {
   "cell_type": "code",
   "execution_count": null,
   "id": "e46ffbbe-fe8b-4bdc-bd28-ff50f6f1fd6f",
   "metadata": {},
   "outputs": [],
   "source": [
    "# the server supports writing array data using the write_array method\n",
    "x = np.random.rand(100, 100)\n",
    "metadata = {\"dataset\" : \"sandbox\", \"foo\" : \"bar\"}\n",
    "node = c[\"uid\"].write_array(x, metadata=metadata)\n",
    "node"
   ]
  },
  {
   "cell_type": "code",
   "execution_count": null,
   "id": "36b25748-aa30-4622-86da-c14fb3c32453",
   "metadata": {},
   "outputs": [],
   "source": [
    "c[\"uid\"]"
   ]
  },
  {
   "cell_type": "code",
   "execution_count": null,
   "id": "9bec57e0-8df0-4be5-92dd-275e8f01e55a",
   "metadata": {},
   "outputs": [],
   "source": [
    "# we can retrive the uid associated with the object\n",
    "key = node.item[\"id\"]\n",
    "key"
   ]
  },
  {
   "cell_type": "code",
   "execution_count": null,
   "id": "1cec0dd6-39e0-4de1-9386-a2c179ec348a",
   "metadata": {},
   "outputs": [],
   "source": [
    "node = c[\"uid\"][key]\n",
    "node"
   ]
  },
  {
   "cell_type": "code",
   "execution_count": null,
   "id": "0700c1e1-803d-4cfd-a6c2-3aaebb14a446",
   "metadata": {},
   "outputs": [],
   "source": [
    "# we can check that we get back the same data we uploaded\n",
    "np.testing.assert_array_equal(node.read(), x)"
   ]
  },
  {
   "cell_type": "code",
   "execution_count": null,
   "id": "a795cb8d-9f0e-479c-be71-d7d4676835df",
   "metadata": {},
   "outputs": [],
   "source": [
    "node.metadata"
   ]
  },
  {
   "cell_type": "code",
   "execution_count": null,
   "id": "88a88a4d-7b00-41c0-bb7b-ddcfecc242cb",
   "metadata": {},
   "outputs": [],
   "source": [
    "# it is also possible to write dataframes\n",
    "df = pd.DataFrame({\"a\" : np.random.rand(100), \"b\" : np.random.rand(100)})\n",
    "metadata = {\"dataset\" : \"sandbox\", \"foo\" : \"bar\"}\n",
    "node = c[\"uid\"].write_dataframe(df, metadata=metadata)\n",
    "node"
   ]
  },
  {
   "cell_type": "code",
   "execution_count": null,
   "id": "5618c2d1-c52c-4ba7-af11-de7f47d0eecb",
   "metadata": {},
   "outputs": [],
   "source": [
    "c[\"uid\"]"
   ]
  },
  {
   "cell_type": "code",
   "execution_count": null,
   "id": "d6c0dcc2-5438-405d-bfab-37e447566015",
   "metadata": {},
   "outputs": [],
   "source": [
    "key = node.item[\"id\"]"
   ]
  },
  {
   "cell_type": "code",
   "execution_count": null,
   "id": "66dbeaf0-7b02-4f78-b27c-5151c0c84c79",
   "metadata": {},
   "outputs": [],
   "source": [
    "node = c[\"uid\"][key]\n",
    "node"
   ]
  },
  {
   "cell_type": "code",
   "execution_count": null,
   "id": "f659d3cd-def0-4544-8b16-235d285a6d09",
   "metadata": {},
   "outputs": [],
   "source": [
    "# we can check that we get back the same data we uploaded\n",
    "pd.testing.assert_frame_equal(node.read(), df)"
   ]
  },
  {
   "cell_type": "code",
   "execution_count": null,
   "id": "0eb5599a-0925-4631-8167-3bced6172ffc",
   "metadata": {},
   "outputs": [],
   "source": [
    "node.metadata"
   ]
  },
  {
   "cell_type": "code",
   "execution_count": null,
   "id": "10dedd76-a960-4db3-958c-2a636a85dadf",
   "metadata": {},
   "outputs": [],
   "source": [
    "# when submitting data you MUST include a 'dataset' key in the metadata\n",
    "# this is used to allow providing access control and enforcement of schemas\n",
    "metadata = {\"foo\" : \"bar\"}\n",
    "node = c[\"uid\"].write_array(x, metadata=metadata)"
   ]
  },
  {
   "cell_type": "code",
   "execution_count": null,
   "id": "52f72cdc-47ab-4a67-8a27-580227b72912",
   "metadata": {},
   "outputs": [],
   "source": [
    "# the server can be configured to apply custom validation to data in a particular dataset\n",
    "# we have configured a 'newville' dataset which requires that the metadata conform to the ExperimentalXASMetadata schema\n",
    "# submitting arbitrary data to this dataset will be rejected by the server"
   ]
  },
  {
   "cell_type": "code",
   "execution_count": null,
   "id": "196ab488-2628-46a0-b15d-5b0b65da8dad",
   "metadata": {},
   "outputs": [],
   "source": [
    "# no spec specified\n",
    "df = pd.DataFrame({\"a\" : np.random.rand(100), \"b\" : np.random.rand(100)})\n",
    "metadata = {\"dataset\" : \"newville\", \"foo\" : \"bar\"}\n",
    "key = c[\"uid\"].write_dataframe(df, metadata=metadata)"
   ]
  },
  {
   "cell_type": "code",
   "execution_count": null,
   "id": "04341615-2f57-4ef9-8ec0-43298154f9a8",
   "metadata": {},
   "outputs": [],
   "source": [
    "# correct spec but metadata fails serverside validation\n",
    "df = pd.DataFrame({\"a\" : np.random.rand(100), \"b\" : np.random.rand(100)})\n",
    "metadata = {\"dataset\" : \"newville\", \"foo\" : \"bar\"}\n",
    "key = c[\"uid\"].write_dataframe(df, metadata=metadata, specs=[\"XAS\"])"
   ]
  },
  {
   "cell_type": "code",
   "execution_count": null,
   "id": "0bbd91d5-74bc-403d-be4e-a647880331eb",
   "metadata": {},
   "outputs": [],
   "source": [
    "# wrong structure family\n",
    "x = np.random.rand(100, 100)\n",
    "metadata = {\"dataset\" : \"newville\", \"foo\" : \"bar\"}\n",
    "key = c[\"uid\"].write_array(x, metadata=metadata, specs=[\"XAS\"])"
   ]
  },
  {
   "cell_type": "code",
   "execution_count": null,
   "id": "f048f8b8-6234-4354-817a-befbf239a54a",
   "metadata": {},
   "outputs": [],
   "source": [
    "# with the correct metadata we can write to the server\n",
    "# NOTE this doesn't prevent you from writing garbage but does help\n",
    "df = pd.DataFrame({\"a\" : np.random.rand(100), \"b\" : np.random.rand(100)})\n",
    "metadata = {\"dataset\" : \"newville\", \"foo\" : \"bar\", \"element\" : {\"symbol\" : \"Au\", \"edge\" : \"K\"}, \"facility\" : {\"name\" : \"ALS\"}, \"beamline\" : {\"name\" : \"8.0.1\"}}\n",
    "node = c[\"uid\"].write_dataframe(df, metadata=metadata, specs=[\"XAS\"])\n",
    "node"
   ]
  },
  {
   "cell_type": "code",
   "execution_count": null,
   "id": "620dbe3c-514e-4f8a-8969-512f513c4f0b",
   "metadata": {},
   "outputs": [],
   "source": [
    "c[\"uid\"]"
   ]
  },
  {
   "cell_type": "code",
   "execution_count": null,
   "id": "5059b6fa-b584-47c7-b3f5-0ff1683e9a03",
   "metadata": {},
   "outputs": [],
   "source": [
    "c[\"dataset\"]"
   ]
  },
  {
   "cell_type": "code",
   "execution_count": null,
   "id": "4604a214-e0c7-43a6-a218-20b9e845da52",
   "metadata": {},
   "outputs": [],
   "source": [
    "c[\"dataset\"][\"newville\"][\"uid\"]"
   ]
  },
  {
   "cell_type": "code",
   "execution_count": null,
   "id": "a9e49ef9-b66a-4729-aac2-ff66928eaedc",
   "metadata": {},
   "outputs": [],
   "source": [
    "key = node.item[\"id\"]\n",
    "key"
   ]
  },
  {
   "cell_type": "code",
   "execution_count": null,
   "id": "bdce3bcd-de9f-45e2-8476-08dbeaf15058",
   "metadata": {},
   "outputs": [],
   "source": [
    "# since we just submitted some garbage lets delete it\n",
    "del c[\"uid\"][key]"
   ]
  },
  {
   "cell_type": "code",
   "execution_count": null,
   "id": "2a5e4b0d-ea1d-4f70-be5d-1916681ba503",
   "metadata": {},
   "outputs": [],
   "source": [
    "c[\"dataset\"][\"newville\"][\"uid\"]"
   ]
  },
  {
   "cell_type": "code",
   "execution_count": null,
   "id": "641a113f-46ba-4c1e-894b-9714c1192f0d",
   "metadata": {},
   "outputs": [],
   "source": [
    "# aimmdb also provides functionality for associating metadata and measurements with samples\n",
    "# use write_sample to write some metadata to the sample database and get a unique id\n",
    "sample_metadata = {\"name\" : \"NiO\", \"description\" : \"Jos's Nickle Oxide Sample\"}\n",
    "sample_key = c.write_sample(sample_metadata)\n",
    "sample_key"
   ]
  },
  {
   "cell_type": "code",
   "execution_count": null,
   "id": "4a04672c-18cd-4dfb-96b1-d78646a418d5",
   "metadata": {},
   "outputs": [],
   "source": [
    "# we can include sample_id in the metadata when submitting measurements\n",
    "\n",
    "df = pd.DataFrame({\"a\" : np.random.rand(100), \"b\" : np.random.rand(100)})\n",
    "metadata = {\"dataset\" : \"sandbox\", \"element\" : {\"symbol\" : \"Ni\", \"edge\" : \"K\"}, \"sample_id\" : sample_key}\n",
    "node = c[\"uid\"].write_dataframe(df, metadata=metadata)\n",
    "\n",
    "df = pd.DataFrame({\"a\" : np.random.rand(100), \"b\" : np.random.rand(100)})\n",
    "metadata = {\"dataset\" : \"sandbox\", \"element\" : {\"symbol\" : \"Ni\", \"edge\" : \"K\"}, \"sample_id\" : sample_key}\n",
    "node = c[\"uid\"].write_dataframe(df, metadata=metadata)"
   ]
  },
  {
   "cell_type": "code",
   "execution_count": null,
   "id": "bc8151ad-bc56-4813-86d8-4234f8a6bea3",
   "metadata": {},
   "outputs": [],
   "source": [
    "c[\"sample\"]"
   ]
  },
  {
   "cell_type": "code",
   "execution_count": null,
   "id": "11737e60-9895-4516-b8cb-e437b6b2082e",
   "metadata": {},
   "outputs": [],
   "source": [
    "# we can then retrieve all measurements associated with that sample_id\n",
    "c[\"sample\"][sample_key][\"uid\"]"
   ]
  },
  {
   "cell_type": "code",
   "execution_count": null,
   "id": "1a862a93-5c39-48cf-be05-c052f5261f45",
   "metadata": {},
   "outputs": [],
   "source": [
    "node = c[\"sample\"][sample_key][\"uid\"].values().first()\n",
    "node"
   ]
  },
  {
   "cell_type": "code",
   "execution_count": null,
   "id": "c35ea0b9-88d3-4d0c-ae9f-4b14031ced2b",
   "metadata": {},
   "outputs": [],
   "source": [
    "# the metadata from the sample database is merged into the measurement metadata\n",
    "node.metadata"
   ]
  },
  {
   "cell_type": "code",
   "execution_count": null,
   "id": "2e97b5fe-5dd8-428d-b8b7-3a76a35068de",
   "metadata": {},
   "outputs": [],
   "source": [
    "# samples can also be deleted\n",
    "# NOTE this only prevents new data from being associated with this sample_key\n",
    "# existing records are not deleted and retain the sample metadata merged at time of ingestion\n",
    "c.delete_sample(sample_key)"
   ]
  },
  {
   "cell_type": "code",
   "execution_count": null,
   "id": "8a2bd487-c2db-494f-a164-f0247ddff117",
   "metadata": {},
   "outputs": [],
   "source": [
    "# we are now ready to ingest the newville dataset"
   ]
  },
  {
   "cell_type": "code",
   "execution_count": null,
   "id": "c58737a3-ff7e-426e-8572-8514c7ad7366",
   "metadata": {},
   "outputs": [],
   "source": [
    "def ingest_newville(c, df, verbose=False):\n",
    "    \"\"\"\n",
    "    Upload the newville dataset to database\n",
    "    \"\"\"\n",
    "\n",
    "    for (name, prep), g in df.groupby([\"sample.name\", \"sample.prep\"]):\n",
    "        if verbose:\n",
    "            print(f\"{name}: {prep}, {len(g)}\")\n",
    "\n",
    "        sample_id = c.write_sample({\"name\" : name, \"prep\" : prep})\n",
    "\n",
    "        for i, row in g.iterrows():\n",
    "            xas_df, _ = read_xdi(row.file)\n",
    "            metadata = row.metadata\n",
    "            metadata[\"dataset\"] = \"newville\"\n",
    "            metadata[\"sample_id\"] = sample_id\n",
    "            c[\"uid\"].write_dataframe(xas_df, metadata=metadata, specs=[\"XAS\"])"
   ]
  },
  {
   "cell_type": "code",
   "execution_count": null,
   "id": "0dc8d835-1734-4538-87bf-0ee854855bc6",
   "metadata": {},
   "outputs": [],
   "source": [
    "print(\"starting ingestion...\")\n",
    "ingest_newville(c, newville, verbose=True)\n",
    "print(\"finished.\")"
   ]
  },
  {
   "cell_type": "code",
   "execution_count": null,
   "id": "773bd72a-97ec-4001-9743-24cc75663fc6",
   "metadata": {},
   "outputs": [],
   "source": [
    "# now we can see the newville data on the server\n",
    "c[\"dataset\"][\"newville\"][\"uid\"]"
   ]
  },
  {
   "cell_type": "code",
   "execution_count": null,
   "id": "1e6d04fd-e636-4ac2-891e-b27fe032c293",
   "metadata": {},
   "outputs": [],
   "source": [
    "c[\"dataset\"][\"newville\"][\"uid\"].values()[:10]"
   ]
  },
  {
   "cell_type": "code",
   "execution_count": null,
   "id": "ea675eb2-2538-4545-af00-0c40d7ef7c0b",
   "metadata": {},
   "outputs": [],
   "source": [
    "# because we have the aimmdb package installed, tiled automatically constructs an XASClient instance when we select a single measurement\n",
    "# this is a subclass of the generic tiled dataframe client providing a more expressive repr which shows the sample name and edge information for the measurement\n",
    "x = c[\"dataset\"][\"newville\"][\"uid\"].values().first()\n",
    "x"
   ]
  },
  {
   "cell_type": "code",
   "execution_count": null,
   "id": "3e33789c-c891-49b8-b115-98c4b73d231b",
   "metadata": {},
   "outputs": [],
   "source": [
    "# the measurement uid can be accessed as a property\n",
    "x.uid"
   ]
  },
  {
   "cell_type": "code",
   "execution_count": null,
   "id": "ba714c22-79be-48ff-a5a3-70903a126d3f",
   "metadata": {},
   "outputs": [],
   "source": [
    "# equivalent to\n",
    "x.item[\"id\"]"
   ]
  },
  {
   "cell_type": "code",
   "execution_count": null,
   "id": "10127123-b08a-4d19-8543-4bc2de58d5cc",
   "metadata": {},
   "outputs": [],
   "source": [
    "# the measurement itself is stored in a dataframe which can be obtained using the .read() method\n",
    "df = x.read()\n",
    "df"
   ]
  },
  {
   "cell_type": "code",
   "execution_count": null,
   "id": "78c3054b-eb62-4862-a719-0d5b51fd3c5b",
   "metadata": {},
   "outputs": [],
   "source": [
    "# once the data is ingested it can be queried in a variety of ways\n",
    "# below we show a non-exhaustive set of examples:"
   ]
  },
  {
   "cell_type": "code",
   "execution_count": null,
   "id": "7931ec5b-1136-4ba8-94aa-c40007c6b30c",
   "metadata": {},
   "outputs": [],
   "source": [
    "# the data can be grouped by sample\n",
    "c[\"dataset\"][\"newville\"][\"sample\"]"
   ]
  },
  {
   "cell_type": "code",
   "execution_count": null,
   "id": "d71b0492-7afe-43cc-8454-bff06a15be6a",
   "metadata": {},
   "outputs": [],
   "source": [
    "# get the sample key\n",
    "k = c[\"dataset\"][\"newville\"][\"sample\"].keys().first()\n",
    "k"
   ]
  },
  {
   "cell_type": "code",
   "execution_count": null,
   "id": "8e289a64-d49a-4485-94d0-d5ea1be5e944",
   "metadata": {},
   "outputs": [],
   "source": [
    "# get all measurements associated with the sample_key\n",
    "c[\"dataset\"][\"newville\"][\"sample\"][k][\"uid\"].values()[:]"
   ]
  },
  {
   "cell_type": "code",
   "execution_count": null,
   "id": "020738eb-6bc4-4874-b28a-10899aeac33c",
   "metadata": {},
   "outputs": [],
   "source": [
    "# get all absorbing elements in dataset\n",
    "c[\"dataset\"][\"newville\"][\"element\"].keys()[:]"
   ]
  },
  {
   "cell_type": "code",
   "execution_count": null,
   "id": "11dc89c4-9fd0-4a00-a05a-f2174e07bbf7",
   "metadata": {},
   "outputs": [],
   "source": [
    "# get all absorbing elements in dataset (alternative more flexible syntax)\n",
    "c[\"dataset\"][\"newville\"][\"uid\"].distinct(\"element.symbol\", counts=True)"
   ]
  },
  {
   "cell_type": "code",
   "execution_count": null,
   "id": "3adc2b79-97c3-459c-a6da-2e30e1fead07",
   "metadata": {},
   "outputs": [],
   "source": [
    "# get all measurements for a particular absorbing element\n",
    "c[\"dataset\"][\"newville\"][\"element\"][\"Au\"][\"uid\"].values()[:]"
   ]
  },
  {
   "cell_type": "code",
   "execution_count": null,
   "id": "47409945-6a7a-4670-b9fc-7919dc8a0e7a",
   "metadata": {},
   "outputs": [],
   "source": [
    "# get all measurements for a particular absorbing element (alternative more flexible syntax)\n",
    "c[\"dataset\"][\"newville\"][\"uid\"].search(Key(\"element.symbol\") == \"Au\").values()[:]"
   ]
  },
  {
   "cell_type": "code",
   "execution_count": null,
   "id": "59e26d26-0ebe-4ed0-ad81-94f45200e4ed",
   "metadata": {},
   "outputs": [],
   "source": [
    "# get all edges\n",
    "c[\"dataset\"][\"newville\"][\"edge\"]"
   ]
  },
  {
   "cell_type": "code",
   "execution_count": null,
   "id": "846fcaee-2a24-4468-b77e-867c046ba724",
   "metadata": {},
   "outputs": [],
   "source": [
    "# alt\n",
    "c[\"dataset\"][\"newville\"][\"uid\"].distinct(\"element.edge\", counts=True)"
   ]
  },
  {
   "cell_type": "code",
   "execution_count": null,
   "id": "d8a55b72-d88d-4506-9454-7eee198b7529",
   "metadata": {},
   "outputs": [],
   "source": [
    "# get all K edge measurements\n",
    "c[\"dataset\"][\"newville\"][\"edge\"][\"K\"][\"uid\"]"
   ]
  },
  {
   "cell_type": "code",
   "execution_count": null,
   "id": "a1902538-7389-406b-94fb-3a34a64c570f",
   "metadata": {},
   "outputs": [],
   "source": [
    "# alt\n",
    "c[\"dataset\"][\"newville\"][\"uid\"].search(Key(\"element.edge\") == \"K\")"
   ]
  },
  {
   "cell_type": "code",
   "execution_count": null,
   "id": "cbfb841a-d437-455a-867f-2f33297cdaec",
   "metadata": {},
   "outputs": [],
   "source": [
    "# get all beamlines (NOTE not accessible using tree)\n",
    "c[\"dataset\"][\"newville\"][\"uid\"].distinct(\"beamline.name\", counts=True)"
   ]
  },
  {
   "cell_type": "code",
   "execution_count": null,
   "id": "181b4f72-0ae6-479c-967c-4780720a21e3",
   "metadata": {},
   "outputs": [],
   "source": [
    "# get data frame a particular beamline\n",
    "c[\"dataset\"][\"newville\"][\"uid\"].search(Key(\"beamline.name\") == \"SSRL 4-1\")"
   ]
  }
 ],
 "metadata": {
  "kernelspec": {
   "display_name": "Python [conda env:aimm]",
   "language": "python",
   "name": "conda-env-aimm-py"
  },
  "language_info": {
   "codemirror_mode": {
    "name": "ipython",
    "version": 3
   },
   "file_extension": ".py",
   "mimetype": "text/x-python",
   "name": "python",
   "nbconvert_exporter": "python",
   "pygments_lexer": "ipython3",
   "version": "3.10.4"
  }
 },
 "nbformat": 4,
 "nbformat_minor": 5
}
