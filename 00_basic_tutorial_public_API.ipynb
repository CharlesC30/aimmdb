{
   "cells": [
      {
         "cell_type": "code",
         "execution_count": 23,
         "id": "8a39bdeb-5d2f-4857-acfe-b9678ba25ae1",
         "metadata": {},
         "outputs": [
            {
               "name": "stdout",
               "output_type": "stream",
               "text": [
                  "The autoreload extension is already loaded. To reload it, use:\n",
                  "  %reload_ext autoreload\n"
               ]
            }
         ],
         "source": [
            "%load_ext autoreload\n",
            "%autoreload 2\n",
            "%config Completer.use_jedi = False"
         ]
      },
      {
         "cell_type": "code",
         "execution_count": 24,
         "id": "f35f534b-9692-4ecd-94c9-24efc0e2dd0b",
         "metadata": {},
         "outputs": [],
         "source": [
            "from pprint import pprint\n",
            "\n",
            "from tiled.client import from_uri\n",
            "import matplotlib.pyplot as plt\n",
            "import matplotlib as mpl"
         ]
      },
      {
         "cell_type": "code",
         "execution_count": 25,
         "id": "fa1941aa-87af-4023-a63b-95f8d96b437e",
         "metadata": {},
         "outputs": [],
         "source": [
            "mpl.rcParams['mathtext.fontset'] = 'stix'\n",
            "mpl.rcParams['font.family'] = 'STIXGeneral'\n",
            "# mpl.rcParams['text.usetex'] = True\n",
            "mpl.rcParams['text.usetex'] = False\n",
            "plt.rc('xtick', labelsize=12)\n",
            "plt.rc('ytick', labelsize=12)\n",
            "plt.rc('axes', labelsize=12)\n",
            "mpl.rcParams['figure.dpi'] = 300"
         ]
      },
      {
         "cell_type": "markdown",
         "id": "43445174-ee13-47ac-9cb1-26482e1739eb",
         "metadata": {},
         "source": [
            "# Basic Tutorial"
         ]
      },
      {
         "cell_type": "markdown",
         "id": "f5260357-c5a8-41fe-8b5d-f728d96b5963",
         "metadata": {},
         "source": [
            "The [AIMM post-processing pipeline](https://github.com/AI-multimodal/aimm-post-processing) is built around the `Operator` object. The `Operator`'s job is to take a `client`-like object and execute a post-processing operation on it. The specific type of operation is defined by the operator. All metadata/provenance is tracked."
         ]
      },
      {
         "cell_type": "code",
         "execution_count": 26,
         "id": "ceb1b1f8-f109-4d05-a98d-64b377514934",
         "metadata": {},
         "outputs": [],
         "source": [
            "from aimmdb.postprocessing import operations"
         ]
      },
      {
         "cell_type": "markdown",
         "id": "bc4a0fb0-7da9-4ea5-80ec-b339a6b85fe9",
         "metadata": {},
         "source": [
            "Connect to the `tiled` client. This one is the [aimmdb](https://github.com/AI-multimodal/aimmdb) hosted at [aimm.lbl.gov](https://aimm.lbl.gov/api). Note that my API key is stored in an environment variable, `TILED_API_KEY`. "
         ]
      },
      {
         "cell_type": "code",
         "execution_count": 27,
         "id": "f3e40949-1d2c-41bd-b207-43ccde4c0f0b",
         "metadata": {},
         "outputs": [
            {
               "ename": "ClientError",
               "evalue": "404: Not Found https://aimm.lbl.gov/api/v1/",
               "output_type": "error",
               "traceback": [
                  "\u001b[0;31m---------------------------------------------------------------------------\u001b[0m",
                  "\u001b[0;31mHTTPStatusError\u001b[0m                           Traceback (most recent call last)",
                  "File \u001b[0;32m~/anaconda3/envs/2.4_tiled_new/lib/python3.9/site-packages/tiled/client/utils.py:29\u001b[0m, in \u001b[0;36mhandle_error\u001b[0;34m(response)\u001b[0m\n\u001b[1;32m     28\u001b[0m \u001b[39mtry\u001b[39;00m:\n\u001b[0;32m---> 29\u001b[0m     response\u001b[39m.\u001b[39;49mraise_for_status()\n\u001b[1;32m     30\u001b[0m \u001b[39mexcept\u001b[39;00m httpx\u001b[39m.\u001b[39mRequestError:\n",
                  "File \u001b[0;32m~/anaconda3/envs/2.4_tiled_new/lib/python3.9/site-packages/httpx/_models.py:1510\u001b[0m, in \u001b[0;36mResponse.raise_for_status\u001b[0;34m(self)\u001b[0m\n\u001b[1;32m   1509\u001b[0m message \u001b[39m=\u001b[39m message\u001b[39m.\u001b[39mformat(\u001b[39mself\u001b[39m, error_type\u001b[39m=\u001b[39merror_type)\n\u001b[0;32m-> 1510\u001b[0m \u001b[39mraise\u001b[39;00m HTTPStatusError(message, request\u001b[39m=\u001b[39mrequest, response\u001b[39m=\u001b[39m\u001b[39mself\u001b[39m)\n",
                  "\u001b[0;31mHTTPStatusError\u001b[0m: Client error '404 Not Found' for url 'https://aimm.lbl.gov/api/v1/'\nFor more information check: https://httpstatuses.com/404",
                  "\nThe above exception was the direct cause of the following exception:\n",
                  "\u001b[0;31mClientError\u001b[0m                               Traceback (most recent call last)",
                  "\u001b[1;32m/home/charles/Desktop/AIMMDB_postprocessing_2/aimmdb/00_basic_tutorial_public_API.ipynb Cell 8\u001b[0m in \u001b[0;36m<cell line: 1>\u001b[0;34m()\u001b[0m\n\u001b[0;32m----> <a href='vscode-notebook-cell:/home/charles/Desktop/AIMMDB_postprocessing_2/aimmdb/00_basic_tutorial_public_API.ipynb#X10sZmlsZQ%3D%3D?line=0'>1</a>\u001b[0m CLIENT \u001b[39m=\u001b[39m from_uri(\u001b[39m\"\u001b[39;49m\u001b[39mhttps://aimm.lbl.gov/api\u001b[39;49m\u001b[39m\"\u001b[39;49m)\n",
                  "File \u001b[0;32m~/anaconda3/envs/2.4_tiled_new/lib/python3.9/site-packages/tiled/client/constructors.py:66\u001b[0m, in \u001b[0;36mfrom_uri\u001b[0;34m(uri, structure_clients, cache, offline, username, auth_provider, api_key, token_cache, verify, prompt_for_reauthentication, headers, timeout)\u001b[0m\n\u001b[1;32m     13\u001b[0m \u001b[39mdef\u001b[39;00m \u001b[39mfrom_uri\u001b[39m(\n\u001b[1;32m     14\u001b[0m     uri,\n\u001b[1;32m     15\u001b[0m     structure_clients\u001b[39m=\u001b[39m\u001b[39m\"\u001b[39m\u001b[39mnumpy\u001b[39m\u001b[39m\"\u001b[39m,\n\u001b[0;32m   (...)\u001b[0m\n\u001b[1;32m     26\u001b[0m     timeout\u001b[39m=\u001b[39m\u001b[39mNone\u001b[39;00m,\n\u001b[1;32m     27\u001b[0m ):\n\u001b[1;32m     28\u001b[0m     \u001b[39m\"\"\"\u001b[39;00m\n\u001b[1;32m     29\u001b[0m \u001b[39m    Connect to a Node on a local or remote server.\u001b[39;00m\n\u001b[1;32m     30\u001b[0m \n\u001b[0;32m   (...)\u001b[0m\n\u001b[1;32m     64\u001b[0m \u001b[39m        (To disable timeouts, use httpx.Timeout(None)).\u001b[39;00m\n\u001b[1;32m     65\u001b[0m \u001b[39m    \"\"\"\u001b[39;00m\n\u001b[0;32m---> 66\u001b[0m     context, node_path_parts \u001b[39m=\u001b[39m Context\u001b[39m.\u001b[39;49mfrom_any_uri(\n\u001b[1;32m     67\u001b[0m         uri,\n\u001b[1;32m     68\u001b[0m         api_key\u001b[39m=\u001b[39;49mapi_key,\n\u001b[1;32m     69\u001b[0m         cache\u001b[39m=\u001b[39;49mcache,\n\u001b[1;32m     70\u001b[0m         offline\u001b[39m=\u001b[39;49moffline,\n\u001b[1;32m     71\u001b[0m         headers\u001b[39m=\u001b[39;49mheaders,\n\u001b[1;32m     72\u001b[0m         timeout\u001b[39m=\u001b[39;49mtimeout,\n\u001b[1;32m     73\u001b[0m         verify\u001b[39m=\u001b[39;49mverify,\n\u001b[1;32m     74\u001b[0m         token_cache\u001b[39m=\u001b[39;49mtoken_cache,\n\u001b[1;32m     75\u001b[0m     )\n\u001b[1;32m     76\u001b[0m     \u001b[39mreturn\u001b[39;00m from_context(\n\u001b[1;32m     77\u001b[0m         context,\n\u001b[1;32m     78\u001b[0m         structure_clients\u001b[39m=\u001b[39mstructure_clients,\n\u001b[0;32m   (...)\u001b[0m\n\u001b[1;32m     82\u001b[0m         node_path_parts\u001b[39m=\u001b[39mnode_path_parts,\n\u001b[1;32m     83\u001b[0m     )\n",
                  "File \u001b[0;32m~/anaconda3/envs/2.4_tiled_new/lib/python3.9/site-packages/tiled/client/context.py:265\u001b[0m, in \u001b[0;36mContext.from_any_uri\u001b[0;34m(cls, uri, headers, api_key, cache, offline, timeout, verify, token_cache, app)\u001b[0m\n\u001b[1;32m    263\u001b[0m \u001b[39melse\u001b[39;00m:\n\u001b[1;32m    264\u001b[0m     api_uri \u001b[39m=\u001b[39m uri\n\u001b[0;32m--> 265\u001b[0m context \u001b[39m=\u001b[39m \u001b[39mcls\u001b[39;49m(\n\u001b[1;32m    266\u001b[0m     api_uri,\n\u001b[1;32m    267\u001b[0m     headers\u001b[39m=\u001b[39;49mheaders,\n\u001b[1;32m    268\u001b[0m     api_key\u001b[39m=\u001b[39;49mapi_key,\n\u001b[1;32m    269\u001b[0m     cache\u001b[39m=\u001b[39;49mcache,\n\u001b[1;32m    270\u001b[0m     offline\u001b[39m=\u001b[39;49moffline,\n\u001b[1;32m    271\u001b[0m     timeout\u001b[39m=\u001b[39;49mtimeout,\n\u001b[1;32m    272\u001b[0m     verify\u001b[39m=\u001b[39;49mverify,\n\u001b[1;32m    273\u001b[0m     token_cache\u001b[39m=\u001b[39;49mtoken_cache,\n\u001b[1;32m    274\u001b[0m     app\u001b[39m=\u001b[39;49mapp,\n\u001b[1;32m    275\u001b[0m )\n\u001b[1;32m    276\u001b[0m \u001b[39mreturn\u001b[39;00m context, node_path_parts\n",
                  "File \u001b[0;32m~/anaconda3/envs/2.4_tiled_new/lib/python3.9/site-packages/tiled/client/context.py:152\u001b[0m, in \u001b[0;36mContext.__init__\u001b[0;34m(self, uri, headers, api_key, cache, offline, timeout, verify, token_cache, app)\u001b[0m\n\u001b[1;32m    149\u001b[0m \u001b[39melse\u001b[39;00m:\n\u001b[1;32m    150\u001b[0m     \u001b[39m# We need a CSRF token.\u001b[39;00m\n\u001b[1;32m    151\u001b[0m     \u001b[39mwith\u001b[39;00m \u001b[39mself\u001b[39m\u001b[39m.\u001b[39mdisable_cache(allow_read\u001b[39m=\u001b[39m\u001b[39mFalse\u001b[39;00m, allow_write\u001b[39m=\u001b[39m\u001b[39mTrue\u001b[39;00m):\n\u001b[0;32m--> 152\u001b[0m         \u001b[39mself\u001b[39m\u001b[39m.\u001b[39mserver_info \u001b[39m=\u001b[39m \u001b[39mself\u001b[39;49m\u001b[39m.\u001b[39;49mget_json(\u001b[39mself\u001b[39;49m\u001b[39m.\u001b[39;49mapi_uri)\n\u001b[1;32m    153\u001b[0m \u001b[39mself\u001b[39m\u001b[39m.\u001b[39mapi_key \u001b[39m=\u001b[39m api_key\n",
                  "File \u001b[0;32m~/anaconda3/envs/2.4_tiled_new/lib/python3.9/site-packages/tiled/client/context.py:541\u001b[0m, in \u001b[0;36mContext.get_json\u001b[0;34m(self, path, stream, **kwargs)\u001b[0m\n\u001b[1;32m    539\u001b[0m \u001b[39mdef\u001b[39;00m \u001b[39mget_json\u001b[39m(\u001b[39mself\u001b[39m, path, stream\u001b[39m=\u001b[39m\u001b[39mFalse\u001b[39;00m, \u001b[39m*\u001b[39m\u001b[39m*\u001b[39mkwargs):\n\u001b[1;32m    540\u001b[0m     \u001b[39mreturn\u001b[39;00m msgpack\u001b[39m.\u001b[39munpackb(\n\u001b[0;32m--> 541\u001b[0m         \u001b[39mself\u001b[39;49m\u001b[39m.\u001b[39;49mget_content(\n\u001b[1;32m    542\u001b[0m             path, accept\u001b[39m=\u001b[39;49m\u001b[39m\"\u001b[39;49m\u001b[39mapplication/x-msgpack\u001b[39;49m\u001b[39m\"\u001b[39;49m, stream\u001b[39m=\u001b[39;49mstream, \u001b[39m*\u001b[39;49m\u001b[39m*\u001b[39;49mkwargs\n\u001b[1;32m    543\u001b[0m         ),\n\u001b[1;32m    544\u001b[0m         timestamp\u001b[39m=\u001b[39m\u001b[39m3\u001b[39m,  \u001b[39m# Decode msgpack Timestamp as datetime.datetime object.\u001b[39;00m\n\u001b[1;32m    545\u001b[0m     )\n",
                  "File \u001b[0;32m~/anaconda3/envs/2.4_tiled_new/lib/python3.9/site-packages/tiled/client/context.py:468\u001b[0m, in \u001b[0;36mContext.get_content\u001b[0;34m(self, path, accept, stream, revalidate, **kwargs)\u001b[0m\n\u001b[1;32m    465\u001b[0m \u001b[39mif\u001b[39;00m \u001b[39mself\u001b[39m\u001b[39m.\u001b[39m_cache \u001b[39mis\u001b[39;00m \u001b[39mNone\u001b[39;00m:\n\u001b[1;32m    466\u001b[0m     \u001b[39m# No cache, so we can use the client straightforwardly.\u001b[39;00m\n\u001b[1;32m    467\u001b[0m     response \u001b[39m=\u001b[39m \u001b[39mself\u001b[39m\u001b[39m.\u001b[39mhttp_client\u001b[39m.\u001b[39msend(request, stream\u001b[39m=\u001b[39mstream)\n\u001b[0;32m--> 468\u001b[0m     handle_error(response)\n\u001b[1;32m    469\u001b[0m     \u001b[39mif\u001b[39;00m response\u001b[39m.\u001b[39mheaders\u001b[39m.\u001b[39mget(\u001b[39m\"\u001b[39m\u001b[39mcontent-encoding\u001b[39m\u001b[39m\"\u001b[39m) \u001b[39m==\u001b[39m \u001b[39m\"\u001b[39m\u001b[39mblosc\u001b[39m\u001b[39m\"\u001b[39m:\n\u001b[1;32m    470\u001b[0m         \u001b[39mimport\u001b[39;00m \u001b[39mblosc\u001b[39;00m\n",
                  "File \u001b[0;32m~/anaconda3/envs/2.4_tiled_new/lib/python3.9/site-packages/tiled/client/utils.py:44\u001b[0m, in \u001b[0;36mhandle_error\u001b[0;34m(response)\u001b[0m\n\u001b[1;32m     42\u001b[0m         detail \u001b[39m=\u001b[39m response\u001b[39m.\u001b[39mreason_phrase\n\u001b[1;32m     43\u001b[0m     message \u001b[39m=\u001b[39m \u001b[39mf\u001b[39m\u001b[39m\"\u001b[39m\u001b[39m{\u001b[39;00mexc\u001b[39m.\u001b[39mresponse\u001b[39m.\u001b[39mstatus_code\u001b[39m}\u001b[39;00m\u001b[39m: \u001b[39m\u001b[39m\"\u001b[39m \u001b[39mf\u001b[39m\u001b[39m\"\u001b[39m\u001b[39m{\u001b[39;00mdetail\u001b[39m}\u001b[39;00m\u001b[39m \u001b[39m\u001b[39m\"\u001b[39m \u001b[39mf\u001b[39m\u001b[39m\"\u001b[39m\u001b[39m{\u001b[39;00mexc\u001b[39m.\u001b[39mrequest\u001b[39m.\u001b[39murl\u001b[39m}\u001b[39;00m\u001b[39m\"\u001b[39m\n\u001b[0;32m---> 44\u001b[0m     \u001b[39mraise\u001b[39;00m ClientError(message, exc\u001b[39m.\u001b[39mrequest, exc\u001b[39m.\u001b[39mresponse) \u001b[39mfrom\u001b[39;00m \u001b[39mexc\u001b[39;00m\n\u001b[1;32m     45\u001b[0m \u001b[39melse\u001b[39;00m:\n\u001b[1;32m     46\u001b[0m     \u001b[39mraise\u001b[39;00m\n",
                  "\u001b[0;31mClientError\u001b[0m: 404: Not Found https://aimm.lbl.gov/api/v1/"
               ]
            }
         ],
         "source": [
            "CLIENT = from_uri(\"https://aimm.lbl.gov/api\")"
         ]
      },
      {
         "cell_type": "code",
         "execution_count": 8,
         "id": "5ceb5aa2-aae4-4a6a-a718-5db60ae1b776",
         "metadata": {},
         "outputs": [
            {
               "data": {
                  "text/plain": [
                     "['newville']"
                  ]
               },
               "execution_count": 8,
               "metadata": {},
               "output_type": "execute_result"
            }
         ],
         "source": [
            "list(CLIENT[\"dataset\"])"
         ]
      },
      {
         "cell_type": "markdown",
         "id": "c7ae73e7-d693-4c9b-a253-b13e299a3d05",
         "metadata": {},
         "source": [
            "## Unary operators"
         ]
      },
      {
         "cell_type": "markdown",
         "id": "33d644b3-4233-49b0-90f6-339ad3e8db56",
         "metadata": {},
         "source": [
            "A [unary operator](https://en.wikipedia.org/wiki/Unary_operation) takes a single input. This input specifically refers to the fact that these operators only act on a single data point (meaning a `DataFrameClient`) at a time. We'll provide some examples here.\n",
            "\n",
            "First, lets get a single `DataFrameClient` object:"
         ]
      },
      {
         "cell_type": "code",
         "execution_count": 9,
         "id": "23cb9f6a-47a7-41ae-9b33-9796cceb8f5a",
         "metadata": {},
         "outputs": [
            {
               "data": {
                  "text/plain": [
                     "tiled.client.dataframe.DataFrameClient"
                  ]
               },
               "execution_count": 9,
               "metadata": {},
               "output_type": "execute_result"
            }
         ],
         "source": [
            "df_client = CLIENT[\"uid\"][\"Bt5hUbgkfzR\"]"
         ]
      },
      {
         "cell_type": "markdown",
         "id": "eb29a693-fedf-4369-b12b-3eb0afd4e30f",
         "metadata": {},
         "source": [
            "### The identity"
         ]
      },
      {
         "cell_type": "markdown",
         "id": "6963e452-9cb0-4ac8-95d1-3c44a736ae7f",
         "metadata": {},
         "source": [
            "The simplest operation we can perform is nothing! Let's see what it does. First, feel free to print the output of the `df_client` so you can see what's contained. Using the `read()` method will allow you to access the actual data, and the `metadata` property will allow you to access the metadata:"
         ]
      },
      {
         "cell_type": "code",
         "execution_count": 10,
         "id": "56a35197-ea9b-4164-82fa-18576486ba97",
         "metadata": {
            "tags": []
         },
         "outputs": [],
         "source": [
            "_ = df_client.read()    # is a pandas.DataFrame\n",
            "_ = df_client.metadata  # is a python dictionary"
         ]
      },
      {
         "cell_type": "markdown",
         "id": "3e06093f-e79a-42ea-940e-5a008cfdcab9",
         "metadata": {},
         "source": [
            "The identity operator is instantiated and then run on the `df_client`."
         ]
      },
      {
         "cell_type": "code",
         "execution_count": 11,
         "id": "ad8a8f5e-72f7-404c-87c8-c82ef5394c3a",
         "metadata": {},
         "outputs": [],
         "source": [
            "op = operations.Identity()\n",
            "result = op(df_client)"
         ]
      },
      {
         "cell_type": "markdown",
         "id": "24e0e9a1-e808-4e56-b9c1-ced7d0461d04",
         "metadata": {},
         "source": [
            "Every result of any operator will be a dictionary with two keys: `\"data\"` and `\"metadata\"`, which correspond to the results of `read()` and `metadata` above. The data is the correspondingly modified `pandas.DataFrame` object (which in the case of the identity, is of course the same as what we started with). The metadata is custom created for a derived, post-processed object.\n",
            "\n",
            "First, let's check that the original and \"post-processed\" data are the same."
         ]
      },
      {
         "cell_type": "code",
         "execution_count": 12,
         "id": "3a66a114-f2d9-49a4-b3d1-f27bf18a1c34",
         "metadata": {},
         "outputs": [],
         "source": [
            "assert (df_client.read() == result[\"data\"]).all().all()"
         ]
      },
      {
         "cell_type": "markdown",
         "id": "a590df1c-602d-4c7f-8d5d-661930116b92",
         "metadata": {},
         "source": [
            "Next, the metadata:"
         ]
      },
      {
         "cell_type": "code",
         "execution_count": 13,
         "id": "4707f59f-fd44-4414-a565-931fb226c06a",
         "metadata": {
            "tags": []
         },
         "outputs": [
            {
               "data": {
                  "text/plain": [
                     "{'_tiled': {'uid': '42sfd6fukkR'},\n",
                     " '_post_processing': {'parents': ['Bt5hUbgkfzR'],\n",
                     "  'operator': {'@module': 'aimmdb.postprocessing.operations',\n",
                     "   '@class': 'Identity',\n",
                     "   '@version': None},\n",
                     "  'kwargs': {},\n",
                     "  'datetime': '2022-11-18 20:32:14 UTC'}}"
                  ]
               },
               "execution_count": 13,
               "metadata": {},
               "output_type": "execute_result"
            }
         ],
         "source": [
            "result[\"metadata\"]"
         ]
      },
      {
         "cell_type": "markdown",
         "id": "7d5b78e3-f9dd-4712-8409-5c64c006ad50",
         "metadata": {},
         "source": [
            "First, a new unique id is assigned. Second, given this is a derived quantity, the previous original metadata is now gone in place of a `post_processing` key. This key contains every bit of information needed for provenance, including the parents (which is just one in the case of a unary operator), the operator details (including code version), any keyword arguments used during instantiation, and the datetime at which the opration was run. We use the [MSONable](https://pythonhosted.org/monty/_modules/monty/json.html) library to take care of most of this for us.\n",
            "\n",
            "We can compare against the original metadata to see the differences."
         ]
      },
      {
         "cell_type": "code",
         "execution_count": null,
         "id": "dc1bd8b7-5038-4b1f-aebe-0b60762986e1",
         "metadata": {},
         "outputs": [],
         "source": [
            "df_client.metadata"
         ]
      },
      {
         "cell_type": "markdown",
         "id": "92af26f9-2c72-4882-b672-7f7ea7fcb5aa",
         "metadata": {},
         "source": [
            "### Standardizing the grids"
         ]
      },
      {
         "cell_type": "markdown",
         "id": "3b36155c-2066-4d78-a8a9-df73b2bfdece",
         "metadata": {},
         "source": [
            "Often times (and especially for e.g. machine learning applications) we need to interpolate our spectral data onto a common grid. We can do this easily with the `StandardizeGrid` unary operator."
         ]
      },
      {
         "cell_type": "code",
         "execution_count": 14,
         "id": "831f8b6f-499f-471c-8ab9-498a720aaee6",
         "metadata": {},
         "outputs": [],
         "source": [
            "op = operations.StandardizeGrid(x0=7550.0, xf=8900.0, nx=100, x_column=\"energy\", y_columns=[\"itrans\"])\n",
            "result = op(df_client)"
         ]
      },
      {
         "cell_type": "markdown",
         "id": "1e684792-589e-4857-b5d4-9e5d30a278d6",
         "metadata": {},
         "source": [
            "Here's a visualization of what it's done:"
         ]
      },
      {
         "cell_type": "code",
         "execution_count": 15,
         "id": "1b239efd-1c9b-4dee-85d2-639d6827dde4",
         "metadata": {},
         "outputs": [],
         "source": [
            "d0 = df_client.read()"
         ]
      },
      {
         "cell_type": "code",
         "execution_count": 16,
         "id": "a70e7bae-cdb9-4b4e-9b2f-f73872f8d177",
         "metadata": {
            "tags": []
         },
         "outputs": [
            {
               "data": {
                  "image/png": "[encoded data removed]",
                  "text/plain": [
                     "<Figure size 216x144 with 1 Axes>"
                  ]
               },
               "metadata": {
                  "needs_background": "light"
               },
               "output_type": "display_data"
            }
         ],
         "source": [
            "fig, ax = plt.subplots(1, 1, figsize=(3, 2))\n",
            "ax.plot(d0[\"energy\"], d0[\"itrans\"], 'k-')\n",
            "ax.plot(result[\"data\"][\"energy\"], result[\"data\"][\"itrans\"], 'r-')\n",
            "plt.show()"
         ]
      },
      {
         "cell_type": "markdown",
         "id": "16a49a37-e025-458b-90b7-ec79c9834b74",
         "metadata": {},
         "source": [
            "### Spectral postprocessing"
         ]
      },
      {
         "cell_type": "markdown",
         "id": "0c52e8a3-56b2-4207-ba67-512c85342d00",
         "metadata": {},
         "source": [
            "In order to make XAS usable, we need to do a few things. Particularly:\n",
            "1. Subtract off the pre-edge trend\n",
            "2. Normalize the tail region to 1\n",
            "\n",
            "We provide tools to do this systematically. For what follows, we'll do this on a Co spectrum."
         ]
      },
      {
         "cell_type": "code",
         "execution_count": 17,
         "id": "945782c4-b762-4283-9262-f02d7e4fdda8",
         "metadata": {},
         "outputs": [],
         "source": [
            "node = CLIENT[\"uid\"][\"Bt5hUbgkfzR\"]\n",
            "df = node.read()\n",
            "\n",
            "import numpy as np\n",
            "df[\"mutrans\"] = -np.log(df[\"itrans\"]/df['i0'])\n",
            "\n",
            "energy = df[\"energy\"]\n",
            "mutrans = df[\"mutrans\"]"
         ]
      },
      {
         "cell_type": "markdown",
         "id": "05fcbdf1-a97a-4011-88d2-7ea81919ac94",
         "metadata": {},
         "source": [
            "Here's what the spectrum looks like before postprocessing:"
         ]
      },
      {
         "cell_type": "code",
         "execution_count": 18,
         "id": "4d20c2b9-0c5c-4c00-b0e2-486d0ac0af3c",
         "metadata": {},
         "outputs": [
            {
               "data": {
                  "image/png": "[encoded data removed]",
                  "text/plain": [
                     "<Figure size 216x144 with 1 Axes>"
                  ]
               },
               "metadata": {
                  "needs_background": "light"
               },
               "output_type": "display_data"
            }
         ],
         "source": [
            "fig, ax = plt.subplots(1, 1, figsize=(3, 2))\n",
            "ax.plot(energy, mutrans)\n",
            "plt.show()"
         ]
      },
      {
         "cell_type": "code",
         "execution_count": 19,
         "id": "e54cab42-2c7c-49fb-8264-d8bac82dc56a",
         "metadata": {},
         "outputs": [],
         "source": [
            "remove_background = operations.RemoveBackground(x0=7510, xf=7690, y_columns=[\"mutrans\"], victoreen_order=0)\n",
            "standardize_intensity = operations.StandardizeIntensity(x0=8000, xf=None, y_columns=[\"mutrans\"])"
         ]
      },
      {
         "cell_type": "code",
         "execution_count": 20,
         "id": "bc08ea5c-2431-41e6-b145-d2341eeec69c",
         "metadata": {},
         "outputs": [],
         "source": [
            "tmp_data = remove_background({'data': df, 'metadata': node.metadata})\n",
            "new_data = standardize_intensity(tmp_data)"
         ]
      },
      {
         "cell_type": "code",
         "execution_count": 21,
         "id": "a82884a4-20cd-492c-ae54-6ea2b892d407",
         "metadata": {},
         "outputs": [],
         "source": [
            "new_df = new_data[\"data\"]\n",
            "energy = new_df[\"energy\"]\n",
            "mutrans = new_df[\"mutrans\"]"
         ]
      },
      {
         "cell_type": "code",
         "execution_count": 56,
         "id": "977c385f-518f-47c5-9be8-357fc0b8736b",
         "metadata": {},
         "outputs": [
            {
               "data": {
                  "image/png": "[encoded data removed]",
                  "text/plain": [
                     "<Figure size 216x144 with 1 Axes>"
                  ]
               },
               "metadata": {
                  "needs_background": "light"
               },
               "output_type": "display_data"
            }
         ],
         "source": [
            "fig, ax = plt.subplots(1, 1, figsize=(3, 2))\n",
            "ax.plot(energy, mutrans)\n",
            "plt.show()"
         ]
      },
      {
         "cell_type": "markdown",
         "id": "5e66833e",
         "metadata": {},
         "source": [
            "Alternative normalization scheme using x-ray larch (see: https://xraypy.github.io/xraylarch/)"
         ]
      },
      {
         "cell_type": "code",
         "execution_count": null,
         "id": "58cebe1c",
         "metadata": {},
         "outputs": [],
         "source": [
            "normalize_xas = operations.NormalizeLarch(y_columns=[\"mutrans\"])\n",
            "larch_norm_data = normalize_xas(tmp_data)\n",
            "\n",
            "larch_norm_df = larch_norm_data[\"data\"]\n",
            "energy = larch_norm_df[\"energy\"]\n",
            "mutrans = larch_norm_df[\"mutrans\"]\n",
            "\n",
            "fig, ax = plt.subplots(1, 1, figsize=(3, 2))\n",
            "ax.plot(energy, mutrans)\n",
            "plt.show()"
         ]
      },
      {
         "cell_type": "markdown",
         "id": "ba830801",
         "metadata": {},
         "source": [
            "# Multiple input operators"
         ]
      },
      {
         "cell_type": "markdown",
         "id": "b90ca58b",
         "metadata": {},
         "source": [
            "MultiOperators are defined act on an arbitrary number of inputs and return a single output. Any number of `DataFrameClient` objects can be passed to a MultiOperator and acted on.\n",
            "\n",
            "For example here we use a MultiOperator to average data from several spectra in aimmdb:"
         ]
      },
      {
         "cell_type": "code",
         "execution_count": 1,
         "id": "87f82006",
         "metadata": {},
         "outputs": [
            {
               "ename": "NameError",
               "evalue": "name 'operations' is not defined",
               "output_type": "error",
               "traceback": [
                  "\u001b[0;31m---------------------------------------------------------------------------\u001b[0m",
                  "\u001b[0;31mNameError\u001b[0m                                 Traceback (most recent call last)",
                  "\u001b[1;32m/home/charles/Desktop/AIMMDB_postprocessing_2/aimmdb/00_basic_tutorial_public_API.ipynb Cell 43\u001b[0m in \u001b[0;36m<cell line: 2>\u001b[0;34m()\u001b[0m\n\u001b[1;32m      <a href='vscode-notebook-cell:/home/charles/Desktop/AIMMDB_postprocessing_2/aimmdb/00_basic_tutorial_public_API.ipynb#X60sZmlsZQ%3D%3D?line=0'>1</a>\u001b[0m \u001b[39m## trying to average all Au data -> keep getting 'data':None after StandardizeIntensity\u001b[39;00m\n\u001b[0;32m----> <a href='vscode-notebook-cell:/home/charles/Desktop/AIMMDB_postprocessing_2/aimmdb/00_basic_tutorial_public_API.ipynb#X60sZmlsZQ%3D%3D?line=1'>2</a>\u001b[0m average_data \u001b[39m=\u001b[39m operations\u001b[39m.\u001b[39mAverageData(y_column\u001b[39m=\u001b[39m\u001b[39m\"\u001b[39m\u001b[39mitrans\u001b[39m\u001b[39m\"\u001b[39m)\n\u001b[1;32m      <a href='vscode-notebook-cell:/home/charles/Desktop/AIMMDB_postprocessing_2/aimmdb/00_basic_tutorial_public_API.ipynb#X60sZmlsZQ%3D%3D?line=2'>3</a>\u001b[0m Au_data \u001b[39m=\u001b[39m CLIENT[\u001b[39m\"\u001b[39m\u001b[39melement\u001b[39m\u001b[39m\"\u001b[39m][\u001b[39m\"\u001b[39m\u001b[39mAu\u001b[39m\u001b[39m\"\u001b[39m][\u001b[39m\"\u001b[39m\u001b[39muid\u001b[39m\u001b[39m\"\u001b[39m]\u001b[39m.\u001b[39mvalues()\n\u001b[1;32m      <a href='vscode-notebook-cell:/home/charles/Desktop/AIMMDB_postprocessing_2/aimmdb/00_basic_tutorial_public_API.ipynb#X60sZmlsZQ%3D%3D?line=4'>5</a>\u001b[0m \u001b[39mprint\u001b[39m(Au_data[\u001b[39m0\u001b[39m]\u001b[39m.\u001b[39mread())\n",
                  "\u001b[0;31mNameError\u001b[0m: name 'operations' is not defined"
               ]
            }
         ],
         "source": [
            "## trying to average all Au data -> keep getting 'data':None after StandardizeIntensity\n",
            "average_data = operations.AverageData(y_column=\"itrans\")\n",
            "Au_data = CLIENT[\"element\"][\"Au\"][\"uid\"].values()\n",
            "\n",
            "print(Au_data[0].read())\n",
            "print(Au_data[1].read())\n",
            "# standardize the x-grids before averaging\n",
            "standardize_intensity = operations.StandardizeIntensity(x0=14250, xf=15000, y_columns=[\"itrans\"])\n",
            "print(standardize_intensity(Au_data[0]))\n",
            "\n",
            "Au_data = [standardize_intensity(data) for data in Au_data]\n",
            "\n",
            "avg_result = average_data(Au_data)\n",
            "avg_result[\"metadata\"]"
         ]
      },
      {
         "cell_type": "code",
         "execution_count": null,
         "id": "adfc352a",
         "metadata": {},
         "outputs": [],
         "source": [
            "avg_data = avg_result[\"data\"]\n",
            "energy = avg_data[\"energy\"]\n",
            "mutrans = avg_data[\"mutrans\"]\n",
            "\n",
            "fig, ax = plt.subplots(1, 1, figsize=(3, 2))\n",
            "ax.plot(energy, mutrans)\n",
            "plt.show()"
         ]
      }
   ],
   "metadata": {
      "kernelspec": {
         "display_name": "Python 3.9.12 ('2.4_tiled_new')",
         "language": "python",
         "name": "python3"
      },
      "language_info": {
         "codemirror_mode": {
            "name": "ipython",
            "version": 3
         },
         "file_extension": ".py",
         "mimetype": "text/x-python",
         "name": "python",
         "nbconvert_exporter": "python",
         "pygments_lexer": "ipython3",
         "version": "3.9.12"
      },
      "toc-autonumbering": true,
      "vscode": {
         "interpreter": {
            "hash": "a3c478af6b5fea0ad44ec6513a903f52aecf0980f3fd040916aba103253221d8"
         }
      }
   },
   "nbformat": 4,
   "nbformat_minor": 5
}
