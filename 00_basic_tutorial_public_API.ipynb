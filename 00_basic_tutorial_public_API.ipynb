{
   "cells": [
      {
         "cell_type": "code",
         "execution_count": null,
         "id": "8a39bdeb-5d2f-4857-acfe-b9678ba25ae1",
         "metadata": {},
         "outputs": [],
         "source": [
            "%load_ext autoreload\n",
            "%autoreload 2\n",
            "%config Completer.use_jedi = False"
         ]
      },
      {
         "cell_type": "code",
         "execution_count": null,
         "id": "f35f534b-9692-4ecd-94c9-24efc0e2dd0b",
         "metadata": {},
         "outputs": [],
         "source": [
            "from pprint import pprint\n",
            "\n",
            "from tiled.client import from_uri\n",
            "import matplotlib.pyplot as plt\n",
            "import matplotlib as mpl"
         ]
      },
      {
         "cell_type": "code",
         "execution_count": null,
         "id": "fa1941aa-87af-4023-a63b-95f8d96b437e",
         "metadata": {},
         "outputs": [],
         "source": [
            "mpl.rcParams['mathtext.fontset'] = 'stix'\n",
            "mpl.rcParams['font.family'] = 'STIXGeneral'\n",
            "# mpl.rcParams['text.usetex'] = True\n",
            "mpl.rcParams['text.usetex'] = False\n",
            "plt.rc('xtick', labelsize=12)\n",
            "plt.rc('ytick', labelsize=12)\n",
            "plt.rc('axes', labelsize=12)\n",
            "mpl.rcParams['figure.dpi'] = 300"
         ]
      },
      {
         "cell_type": "markdown",
         "id": "43445174-ee13-47ac-9cb1-26482e1739eb",
         "metadata": {},
         "source": [
            "# Basic Tutorial"
         ]
      },
      {
         "cell_type": "markdown",
         "id": "f5260357-c5a8-41fe-8b5d-f728d96b5963",
         "metadata": {},
         "source": [
            "The [AIMM post-processing pipeline](https://github.com/AI-multimodal/aimm-post-processing) is built around the `Operator` object. The `Operator`'s job is to take a `client`-like object and execute a post-processing operation on it. The specific type of operation is defined by the operator. All metadata/provenance is tracked."
         ]
      },
      {
         "cell_type": "code",
         "execution_count": null,
         "id": "ceb1b1f8-f109-4d05-a98d-64b377514934",
         "metadata": {},
         "outputs": [],
         "source": [
            "from aimmdb.postprocessing import operations"
         ]
      },
      {
         "cell_type": "markdown",
         "id": "bc4a0fb0-7da9-4ea5-80ec-b339a6b85fe9",
         "metadata": {},
         "source": [
            "Connect to the `tiled` client. This one is the [aimmdb](https://github.com/AI-multimodal/aimmdb) hosted at [aimm.lbl.gov](https://aimm.lbl.gov/api). Note that my API key is stored in an environment variable, `TILED_API_KEY`. "
         ]
      },
      {
         "cell_type": "code",
         "execution_count": null,
         "id": "f3e40949-1d2c-41bd-b207-43ccde4c0f0b",
         "metadata": {},
         "outputs": [],
         "source": [
            "CLIENT = from_uri(\"https://aimm.lbl.gov/api\")"
         ]
      },
      {
         "cell_type": "code",
         "execution_count": null,
         "id": "5ceb5aa2-aae4-4a6a-a718-5db60ae1b776",
         "metadata": {},
         "outputs": [],
         "source": [
            "list(CLIENT[\"dataset\"])"
         ]
      },
      {
         "cell_type": "markdown",
         "id": "c7ae73e7-d693-4c9b-a253-b13e299a3d05",
         "metadata": {},
         "source": [
            "## Unary operators"
         ]
      },
      {
         "cell_type": "markdown",
         "id": "33d644b3-4233-49b0-90f6-339ad3e8db56",
         "metadata": {},
         "source": [
            "A [unary operator](https://en.wikipedia.org/wiki/Unary_operation) takes a single input. This input specifically refers to the fact that these operators only act on a single data point (meaning a `DataFrameClient`) at a time. We'll provide some examples here.\n",
            "\n",
            "First, lets get a single `DataFrameClient` object:"
         ]
      },
      {
         "cell_type": "code",
         "execution_count": null,
         "id": "23cb9f6a-47a7-41ae-9b33-9796cceb8f5a",
         "metadata": {},
         "outputs": [],
         "source": [
            "df_client = CLIENT[\"uid\"][\"Bt5hUbgkfzR\"]\n",
            "type(df_client)"
         ]
      },
      {
         "cell_type": "markdown",
         "id": "eb29a693-fedf-4369-b12b-3eb0afd4e30f",
         "metadata": {},
         "source": [
            "### The identity"
         ]
      },
      {
         "cell_type": "markdown",
         "id": "6963e452-9cb0-4ac8-95d1-3c44a736ae7f",
         "metadata": {},
         "source": [
            "The simplest operation we can perform is nothing! Let's see what it does. First, feel free to print the output of the `df_client` so you can see what's contained. Using the `read()` method will allow you to access the actual data, and the `metadata` property will allow you to access the metadata:"
         ]
      },
      {
         "cell_type": "code",
         "execution_count": null,
         "id": "56a35197-ea9b-4164-82fa-18576486ba97",
         "metadata": {
            "tags": []
         },
         "outputs": [],
         "source": [
            "_ = df_client.read()    # is a pandas.DataFrame\n",
            "_ = df_client.metadata  # is a python dictionary"
         ]
      },
      {
         "cell_type": "markdown",
         "id": "3e06093f-e79a-42ea-940e-5a008cfdcab9",
         "metadata": {},
         "source": [
            "The identity operator is instantiated and then run on the `df_client`."
         ]
      },
      {
         "cell_type": "code",
         "execution_count": null,
         "id": "ad8a8f5e-72f7-404c-87c8-c82ef5394c3a",
         "metadata": {},
         "outputs": [],
         "source": [
            "op = operations.Identity()\n",
            "result = op(df_client)"
         ]
      },
      {
         "cell_type": "markdown",
         "id": "24e0e9a1-e808-4e56-b9c1-ced7d0461d04",
         "metadata": {},
         "source": [
            "Every result of any operator will be a dictionary with two keys: `\"data\"` and `\"metadata\"`, which correspond to the results of `read()` and `metadata` above. The data is the correspondingly modified `pandas.DataFrame` object (which in the case of the identity, is of course the same as what we started with). The metadata is custom created for a derived, post-processed object.\n",
            "\n",
            "First, let's check that the original and \"post-processed\" data are the same."
         ]
      },
      {
         "cell_type": "code",
         "execution_count": null,
         "id": "3a66a114-f2d9-49a4-b3d1-f27bf18a1c34",
         "metadata": {},
         "outputs": [],
         "source": [
            "assert (df_client.read() == result[\"data\"]).all().all()"
         ]
      },
      {
         "cell_type": "markdown",
         "id": "a590df1c-602d-4c7f-8d5d-661930116b92",
         "metadata": {},
         "source": [
            "Next, the metadata:"
         ]
      },
      {
         "cell_type": "code",
         "execution_count": null,
         "id": "4707f59f-fd44-4414-a565-931fb226c06a",
         "metadata": {
            "tags": []
         },
         "outputs": [],
         "source": [
            "result[\"metadata\"]"
         ]
      },
      {
         "cell_type": "markdown",
         "id": "7d5b78e3-f9dd-4712-8409-5c64c006ad50",
         "metadata": {},
         "source": [
            "First, a new unique id is assigned. Second, given this is a derived quantity, the previous original metadata is now gone in place of a `post_processing` key. This key contains every bit of information needed for provenance, including the parents (which is just one in the case of a unary operator), the operator details (including code version), any keyword arguments used during instantiation, and the datetime at which the opration was run. We use the [MSONable](https://pythonhosted.org/monty/_modules/monty/json.html) library to take care of most of this for us.\n",
            "\n",
            "We can compare against the original metadata to see the differences."
         ]
      },
      {
         "cell_type": "code",
         "execution_count": null,
         "id": "dc1bd8b7-5038-4b1f-aebe-0b60762986e1",
         "metadata": {},
         "outputs": [],
         "source": [
            "df_client.metadata"
         ]
      },
      {
         "cell_type": "markdown",
         "id": "92af26f9-2c72-4882-b672-7f7ea7fcb5aa",
         "metadata": {},
         "source": [
            "### Standardizing the grids"
         ]
      },
      {
         "cell_type": "markdown",
         "id": "3b36155c-2066-4d78-a8a9-df73b2bfdece",
         "metadata": {},
         "source": [
            "Often times (and especially for e.g. machine learning applications) we need to interpolate our spectral data onto a common grid. We can do this easily with the `StandardizeGrid` unary operator."
         ]
      },
      {
         "cell_type": "code",
         "execution_count": null,
         "id": "831f8b6f-499f-471c-8ab9-498a720aaee6",
         "metadata": {},
         "outputs": [],
         "source": [
            "op = operations.StandardizeGrid(x0=7550.0, xf=8900.0, nx=100, x_column=\"energy\", y_columns=[\"itrans\"])\n",
            "result = op(df_client)"
         ]
      },
      {
         "cell_type": "markdown",
         "id": "1e684792-589e-4857-b5d4-9e5d30a278d6",
         "metadata": {},
         "source": [
            "Here's a visualization of what it's done:"
         ]
      },
      {
         "cell_type": "code",
         "execution_count": null,
         "id": "1b239efd-1c9b-4dee-85d2-639d6827dde4",
         "metadata": {},
         "outputs": [],
         "source": [
            "d0 = df_client.read()"
         ]
      },
      {
         "cell_type": "code",
         "execution_count": null,
         "id": "a70e7bae-cdb9-4b4e-9b2f-f73872f8d177",
         "metadata": {
            "tags": []
         },
         "outputs": [],
         "source": [
            "fig, ax = plt.subplots(1, 1, figsize=(3, 2))\n",
            "ax.plot(d0[\"energy\"], d0[\"itrans\"], 'k-')\n",
            "ax.plot(result[\"data\"][\"energy\"], result[\"data\"][\"itrans\"], 'r-')\n",
            "plt.show()"
         ]
      },
      {
         "cell_type": "markdown",
         "id": "16a49a37-e025-458b-90b7-ec79c9834b74",
         "metadata": {},
         "source": [
            "### Spectral postprocessing"
         ]
      },
      {
         "cell_type": "markdown",
         "id": "0c52e8a3-56b2-4207-ba67-512c85342d00",
         "metadata": {},
         "source": [
            "In order to make XAS usable, we need to do a few things. Particularly:\n",
            "1. Subtract off the pre-edge trend\n",
            "2. Normalize the tail region to 1\n",
            "\n",
            "We provide tools to do this systematically. For what follows, we'll do this on a Co spectrum."
         ]
      },
      {
         "cell_type": "code",
         "execution_count": null,
         "id": "945782c4-b762-4283-9262-f02d7e4fdda8",
         "metadata": {},
         "outputs": [],
         "source": [
            "node = CLIENT[\"uid\"][\"Bt5hUbgkfzR\"]\n",
            "df = node.read()\n",
            "\n",
            "import numpy as np\n",
            "df[\"mutrans\"] = -np.log(df[\"itrans\"]/df['i0'])\n",
            "\n",
            "energy = df[\"energy\"]\n",
            "mutrans = df[\"mutrans\"]"
         ]
      },
      {
         "cell_type": "markdown",
         "id": "05fcbdf1-a97a-4011-88d2-7ea81919ac94",
         "metadata": {},
         "source": [
            "Here's what the spectrum looks like before postprocessing:"
         ]
      },
      {
         "cell_type": "code",
         "execution_count": null,
         "id": "4d20c2b9-0c5c-4c00-b0e2-486d0ac0af3c",
         "metadata": {},
         "outputs": [],
         "source": [
            "fig, ax = plt.subplots(1, 1, figsize=(3, 2))\n",
            "ax.plot(energy, mutrans)\n",
            "plt.show()"
         ]
      },
      {
         "cell_type": "code",
         "execution_count": null,
         "id": "e54cab42-2c7c-49fb-8264-d8bac82dc56a",
         "metadata": {},
         "outputs": [],
         "source": [
            "remove_background = operations.RemoveBackground(x0=7510, xf=7690, y_columns=[\"mutrans\"], victoreen_order=0)\n",
            "standardize_intensity = operations.StandardizeIntensity(x0=8000, xf=None, y_columns=[\"mutrans\"])"
         ]
      },
      {
         "cell_type": "code",
         "execution_count": null,
         "id": "bc08ea5c-2431-41e6-b145-d2341eeec69c",
         "metadata": {},
         "outputs": [],
         "source": [
            "tmp_data = remove_background({'data': df, 'metadata': node.metadata})\n",
            "new_data = standardize_intensity(tmp_data)"
         ]
      },
      {
         "cell_type": "code",
         "execution_count": null,
         "id": "a82884a4-20cd-492c-ae54-6ea2b892d407",
         "metadata": {},
         "outputs": [],
         "source": [
            "new_df = new_data[\"data\"]\n",
            "energy = new_df[\"energy\"]\n",
            "mutrans = new_df[\"mutrans\"]"
         ]
      },
      {
         "cell_type": "code",
         "execution_count": null,
         "id": "977c385f-518f-47c5-9be8-357fc0b8736b",
         "metadata": {},
         "outputs": [],
         "source": [
            "fig, ax = plt.subplots(1, 1, figsize=(3, 2))\n",
            "ax.plot(energy, mutrans)\n",
            "plt.show()"
         ]
      },
      {
         "cell_type": "markdown",
         "id": "5e66833e",
         "metadata": {},
         "source": [
            "Alternative normalization scheme using x-ray larch (see: https://xraypy.github.io/xraylarch/)"
         ]
      },
      {
         "cell_type": "code",
         "execution_count": null,
         "id": "58cebe1c",
         "metadata": {},
         "outputs": [],
         "source": [
            "normalize_xas = operations.NormalizeLarch(y_columns=[\"mutrans\"])\n",
            "larch_norm_data = normalize_xas(tmp_data)\n",
            "\n",
            "larch_norm_df = larch_norm_data[\"data\"]\n",
            "energy = larch_norm_df[\"energy\"]\n",
            "mutrans = larch_norm_df[\"mutrans\"]\n",
            "\n",
            "fig, ax = plt.subplots(1, 1, figsize=(3, 2))\n",
            "ax.plot(energy, mutrans)\n",
            "plt.show()"
         ]
      },
      {
         "cell_type": "markdown",
         "id": "ba830801",
         "metadata": {},
         "source": [
            "# Multiple input operators"
         ]
      },
      {
         "cell_type": "markdown",
         "id": "b90ca58b",
         "metadata": {},
         "source": [
            "MultiOperators are defined act on an arbitrary number of inputs and return a single output. Any number of `DataFrameClient` objects can be passed to a MultiOperator and acted on.\n",
            "\n",
            "For example here we use a MultiOperator to average data from several spectra:"
         ]
      },
      {
         "cell_type": "code",
         "execution_count": null,
         "id": "87f82006",
         "metadata": {},
         "outputs": [],
         "source": [
            "average_data = operations.AverageData(y_column=\"mutrans\")\n",
            "avg_result = average_data(larch_norm_data, {'data': df, 'metadata': node.metadata})\n",
            "avg_result[\"metadata\"]"
         ]
      },
      {
         "cell_type": "code",
         "execution_count": null,
         "id": "adfc352a",
         "metadata": {},
         "outputs": [],
         "source": [
            "avg_data = avg_result[\"data\"]\n",
            "energy = avg_data[\"energy\"]\n",
            "mutrans = avg_data[\"mutrans\"]\n",
            "\n",
            "fig, ax = plt.subplots(1, 1, figsize=(3, 2))\n",
            "ax.plot(energy, mutrans)\n",
            "plt.show()"
         ]
      }
   ],
   "metadata": {
      "kernelspec": {
         "display_name": "Python 3.9.12 ('2.4_tiled_new')",
         "language": "python",
         "name": "python3"
      },
      "language_info": {
         "codemirror_mode": {
            "name": "ipython",
            "version": 3
         },
         "file_extension": ".py",
         "mimetype": "text/x-python",
         "name": "python",
         "nbconvert_exporter": "python",
         "pygments_lexer": "ipython3",
         "version": "3.9.12"
      },
      "toc-autonumbering": true,
      "vscode": {
         "interpreter": {
            "hash": "a3c478af6b5fea0ad44ec6513a903f52aecf0980f3fd040916aba103253221d8"
         }
      }
   },
   "nbformat": 4,
   "nbformat_minor": 5
}
